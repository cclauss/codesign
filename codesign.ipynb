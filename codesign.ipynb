{
 "cells": [
  {
   "cell_type": "code",
   "execution_count": null,
   "metadata": {},
   "outputs": [],
   "source": [
    "!jupyter-nbconvert --to python --template python_clean codesign.ipynb"
   ]
  },
  {
   "cell_type": "code",
   "execution_count": 1,
   "metadata": {},
   "outputs": [],
   "source": [
    "import configparser\n",
    "import argparse\n",
    "from distutils import util\n",
    "import subprocess\n",
    "import shlex\n",
    "import tempfile\n",
    "from pathlib import Path\n",
    "from time import sleep"
   ]
  },
  {
   "cell_type": "code",
   "execution_count": 2,
   "metadata": {},
   "outputs": [],
   "source": [
    "def runcommand (cmd):\n",
    "    '''run an external command and return exit code, stdout and stderr\n",
    "    \n",
    "    https://gist.github.com/jotaelesalinas/f809d702e4d3e24b19b77b83c9bf5d9e'''\n",
    "    proc = subprocess.Popen(cmd,\n",
    "                            stdout=subprocess.PIPE,\n",
    "                            stderr=subprocess.PIPE,\n",
    "                            shell=True,\n",
    "                            universal_newlines=True)\n",
    "    std_out, std_err = proc.communicate()\n",
    "    return proc.returncode, std_out, std_err"
   ]
  },
  {
   "cell_type": "code",
   "execution_count": 3,
   "metadata": {},
   "outputs": [],
   "source": [
    "def get_config(file=None, default_config=None, filename='codesign.ini'):\n",
    "    config = configparser.ConfigParser()\n",
    "    \n",
    "    if file:\n",
    "        print (f'using configuration file: {file}')\n",
    "        config.read(file)\n",
    "    elif default_config:\n",
    "        config.read_dict(default_config)\n",
    "        print(f'writing default config file: {filename}')\n",
    "        try:\n",
    "            with open(filename, 'w') as blank_config:\n",
    "                config.write(blank_config)\n",
    "        except OSError as e:\n",
    "            print(f'could not create {filename} due to error: {e}')\n",
    "        return {}\n",
    "    else:\n",
    "        return {}\n",
    "\n",
    "    return {s:dict(config.items(s)) for s in config.sections()}"
   ]
  },
  {
   "cell_type": "code",
   "execution_count": 4,
   "metadata": {},
   "outputs": [],
   "source": [
    "def get_args():\n",
    "    parser = argparse.ArgumentParser(description='Commandline Parser')\n",
    "    \n",
    "    parser.add_argument('-n', '--new', dest='new_config', \n",
    "                        action='store_true', default=False,\n",
    "                       help='create a new sample configuration with name \"codesign.ini\" in current directory')\n",
    "    \n",
    "    parser.add_argument('config', nargs='?', type=str, default=None,\n",
    "                       help='configuration file to use when codesigning')\n",
    "    \n",
    "    parser.add_argument('-s', '--sign', dest='sign_only',\n",
    "                       action='store_true', default=None,\n",
    "                       help='sign the executables, but take no further action (can be combined with -p, -o, -t)')\n",
    "    \n",
    "    \n",
    "#     known_args, unknown_args = parser.parse_known_args()\n",
    "    args = parser.parse_args()\n",
    "#     return(known_args, unknown_args)\n",
    "    return args"
   ]
  },
  {
   "cell_type": "code",
   "execution_count": 5,
   "metadata": {},
   "outputs": [],
   "source": [
    "def validate_config(config, expected_keys):\n",
    "    missing = {}\n",
    "    for section, keys in expected_keys.items():\n",
    "        if not section in config.keys():\n",
    "            missing[section] = expected_keys[section]\n",
    "            continue\n",
    "        for key in keys:\n",
    "            if not key in config[section].keys():\n",
    "                if not section in missing:\n",
    "                    missing[section] = {}\n",
    "                missing[section][key] = keys[key]\n",
    "                \n",
    "    if missing:\n",
    "        print(f'Config file \"{args.config}\" is missing values:')\n",
    "        for section, values in missing_values.items():\n",
    "            print(f'[{section}]')\n",
    "            for k, v in values.items():\n",
    "                print(f'\\t{k}: {v}')\n",
    "                    \n",
    "    return missing"
   ]
  },
  {
   "cell_type": "code",
   "execution_count": 6,
   "metadata": {},
   "outputs": [],
   "source": [
    "import sys"
   ]
  },
  {
   "cell_type": "code",
   "execution_count": 7,
   "metadata": {},
   "outputs": [
    {
     "data": {
      "text/plain": [
       "['/Users/aaronciuffo/.local/share/virtualenvs/pyPDF_split-aG0Oa909/lib/python3.8/site-packages/ipykernel_launcher.py',\n",
       " '-f',\n",
       " '/Users/aaronciuffo/Library/Jupyter/runtime/kernel-ca1c93ba-1b8e-44ea-b9c7-6634ff6aaeec.json']"
      ]
     },
     "execution_count": 7,
     "metadata": {},
     "output_type": "execute_result"
    }
   ],
   "source": [
    "sys.argv"
   ]
  },
  {
   "cell_type": "code",
   "execution_count": null,
   "metadata": {},
   "outputs": [],
   "source": [
    "default_args = sys.argv"
   ]
  },
  {
   "cell_type": "code",
   "execution_count": 11,
   "metadata": {},
   "outputs": [],
   "source": [
    "sys.argv = []"
   ]
  },
  {
   "cell_type": "code",
   "execution_count": 13,
   "metadata": {},
   "outputs": [],
   "source": [
    "sys.argv.append('project.ini')"
   ]
  },
  {
   "cell_type": "code",
   "execution_count": 14,
   "metadata": {},
   "outputs": [],
   "source": [
    "def run_command(command_list):\n",
    "    cmd = subprocess.Popen(shlex.split(' '.join(command_list)), \n",
    "                    stdout=subprocess.PIPE,\n",
    "                    stderr=subprocess.PIPE)\n",
    "    stderr, stdout = cmd.communicate()\n",
    "    return cmd.returncode, stderr, stdout"
   ]
  },
  {
   "cell_type": "code",
   "execution_count": 15,
   "metadata": {},
   "outputs": [],
   "source": [
    "def sign(config):\n",
    "    \n",
    "    try:\n",
    "        entitlements = util.strtobool(config['package_details']['entitlements'])\n",
    "    except (AttributeError, ValueError):\n",
    "        entitlements = config['package_details']['entitlements']\n",
    "    \n",
    "    if (not entitlements) or (entitlements == 'None'):\n",
    "        entitlements = None\n",
    "        \n",
    "    config['package_details']['entitlements'] = entitlements\n",
    "\n",
    "    args = {\n",
    "        'command': 'codesign',\n",
    "        'args': '--deep --force --timestamp --options=runtime',\n",
    "        'entitlements': f'--entitlements {config[\"package_details\"][\"entitlements\"]}' if config[\"package_details\"][\"entitlements\"] else None,\n",
    "        'signature': f'--sign {config[\"identification\"][\"application_id\"]}',\n",
    "        'files': ' '.join(config['package_details']['file_list'])\n",
    "    }\n",
    "    \n",
    "    final_list = [i if i is not None else '' for k, i in args.items()]\n",
    "    print(f'signing files: {args[\"files\"]}')\n",
    "    \n",
    "    return_code, stdout, stderr = run_command(final_list)\n",
    "    for each in (stderr, stdout):\n",
    "        print(str(each, 'utf-8'))\n",
    "    return return_code, stdout, stderr\n",
    "    "
   ]
  },
  {
   "cell_type": "code",
   "execution_count": 16,
   "metadata": {},
   "outputs": [],
   "source": [
    "def package(config):\n",
    "    pkg_temp = tempfile.TemporaryDirectory()\n",
    "    pkg_temp_path = Path(pkg_temp.name)\n",
    "    \n",
    "    install_path = config['package_details']['installation_path']\n",
    "    for file in config['package_details']['file_list']:\n",
    "        file_name = Path(file).name\n",
    "        return_code, stderr, stdout = run_command(shlex.split(f'ditto {file} {pkg_temp_path/file_name}'))\n",
    "        if return_code > 0:\n",
    "            pkg_temp.cleanup()\n",
    "            return return_code, stderr, stdout\n",
    "    \n",
    "    args = {\n",
    "        'command': 'productbuild',\n",
    "        'identifier': f'--identifier {config[\"package_details\"][\"bundle_id\"]}.pkg',\n",
    "        'signature': f'--sign {config[\"identification\"][\"installer_id\"]}',\n",
    "        'args': '--timestamp',\n",
    "        'root': f'--root {pkg_temp_path} / ./{config[\"package_details\"][\"package_name\"]}.pkg'\n",
    "        \n",
    "    }\n",
    "    \n",
    "    print(f'packaging {config[\"package_details\"][\"package_name\"]}.pkg')\n",
    "    final_list = [i if i is not None else '' for k, i in args.items()]\n",
    "    return_code, stderr, stdout = run_command(final_list)\n",
    "    \n",
    "    for each in (stderr, stdout):\n",
    "        if len(each) > 0:\n",
    "            print(str(each, 'utf-8'))\n",
    "        \n",
    "    pkg_temp.cleanup()    \n",
    "    return return_code, stdout, stderr"
   ]
  },
  {
   "cell_type": "code",
   "execution_count": 25,
   "metadata": {},
   "outputs": [],
   "source": [
    "def notarize(config):\n",
    "    notarize_args = {\n",
    "        'command': 'xcrun altool',\n",
    "        'args': '--notarize-app',\n",
    "        'bundle_id': f'--primary-bundle-id {config[\"package_details\"][\"bundle_id\"]}',\n",
    "        'username': f'--username={config[\"identification\"][\"apple_id\"]}',\n",
    "        'password': f'--password {config[\"identification\"][\"password\"]}',\n",
    "        'file': f'--file ./{config[\"package_details\"][\"package_name\"]}.pkg'\n",
    "    }\n",
    "    \n",
    " \n",
    "    \n",
    "    final_list = [i for k, i, in notarize_args.items()]\n",
    "    return_code, stdout, stderr = run_command(final_list)\n",
    "            \n",
    "   \n",
    "    return return_code, stdout, stderr"
   ]
  },
  {
   "cell_type": "code",
   "execution_count": 32,
   "metadata": {},
   "outputs": [],
   "source": [
    "s = notarize(c)"
   ]
  },
  {
   "cell_type": "code",
   "execution_count": 48,
   "metadata": {},
   "outputs": [],
   "source": [
    "def check_notarization(stdout, config):\n",
    "    notarize_max_check = config['main']['notrarize_max_check']\n",
    "    notarize_check = 0\n",
    "    success = {}\n",
    "    notarized = False\n",
    "    \n",
    "    \n",
    "    uuids = []\n",
    "    for line in str(stdout[1], 'utf-8').splitlines():\n",
    "        if 'requestuuid' in line.lower():\n",
    "            my_id = line.split('=')\n",
    "            uuids.append(my_id[1].strip())    \n",
    "    \n",
    "\n",
    "    while not notarized:\n",
    "        print('checking notarization status')\n",
    "        notarize_check += 1\n",
    "        print(f'check: {notarize_check}')\n",
    "        check_args = {\n",
    "            'command': 'xcrun altool',\n",
    "            'info': f'--notarization-info {uuids[0]}',\n",
    "            'username': f'--username {config[\"identification\"][\"apple_id\"]}',\n",
    "            'password': f'--password {config[\"identification\"][\"password\"]}'\n",
    "        }\n",
    "        final_list = [i for k, i in check_args.items()]\n",
    "        return_code, stdout, stderr = run_command(final_list)\n",
    "\n",
    "        if stdout:\n",
    "            lines = str(stdout, 'utf-8').splitlines()\n",
    "\n",
    "            for l in lines:\n",
    "                if 'status' in l.lower():\n",
    "                    vals = l.split(':')\n",
    "                    success[vals[0].strip()] = vals[1].strip()\n",
    "\n",
    "            if success:\n",
    "                notarized=True    \n",
    "            else:\n",
    "                if notarize_check >= notarize_max_check-1:\n",
    "                    break\n",
    "                sleep_timer = config['main']['notarize_timer']*notarize_check\n",
    "                print(f'sleeping for {sleep_timer} seconds')\n",
    "                sleep(sleep_timer)\n",
    "            \n",
    "    return success"
   ]
  },
  {
   "cell_type": "code",
   "execution_count": 49,
   "metadata": {},
   "outputs": [
    {
     "name": "stdout",
     "output_type": "stream",
     "text": [
      "checking notarization status\n",
      "check: 1\n"
     ]
    },
    {
     "data": {
      "text/plain": [
       "{'Status': 'success', 'Status Code': '0', 'Status Message': 'Package Approved'}"
      ]
     },
     "execution_count": 49,
     "metadata": {},
     "output_type": "execute_result"
    }
   ],
   "source": [
    "check_notarization(s, c)"
   ]
  },
  {
   "cell_type": "code",
   "execution_count": 22,
   "metadata": {},
   "outputs": [
    {
     "ename": "AttributeError",
     "evalue": "'int' object has no attribute 'lower'",
     "output_type": "error",
     "traceback": [
      "\u001b[0;31m---------------------------------------------------------------------------\u001b[0m",
      "\u001b[0;31mAttributeError\u001b[0m                            Traceback (most recent call last)",
      "\u001b[0;32m<ipython-input-22-95febea29b79>\u001b[0m in \u001b[0;36m<module>\u001b[0;34m\u001b[0m\n\u001b[0;32m----> 1\u001b[0;31m \u001b[0mnotarize\u001b[0m\u001b[0;34m(\u001b[0m\u001b[0mc\u001b[0m\u001b[0;34m)\u001b[0m\u001b[0;34m\u001b[0m\u001b[0;34m\u001b[0m\u001b[0m\n\u001b[0m",
      "\u001b[0;32m<ipython-input-17-fc3b46820ec0>\u001b[0m in \u001b[0;36mnotarize\u001b[0;34m(config)\u001b[0m\n\u001b[1;32m     21\u001b[0m     \u001b[0muuids\u001b[0m \u001b[0;34m=\u001b[0m \u001b[0;34m[\u001b[0m\u001b[0;34m]\u001b[0m\u001b[0;34m\u001b[0m\u001b[0;34m\u001b[0m\u001b[0m\n\u001b[1;32m     22\u001b[0m     \u001b[0;32mfor\u001b[0m \u001b[0mline\u001b[0m \u001b[0;32min\u001b[0m \u001b[0mstdout\u001b[0m\u001b[0;34m:\u001b[0m\u001b[0;34m\u001b[0m\u001b[0;34m\u001b[0m\u001b[0m\n\u001b[0;32m---> 23\u001b[0;31m         \u001b[0;32mif\u001b[0m \u001b[0;34m'requestuuid'\u001b[0m \u001b[0;32min\u001b[0m \u001b[0mline\u001b[0m\u001b[0;34m.\u001b[0m\u001b[0mlower\u001b[0m\u001b[0;34m(\u001b[0m\u001b[0;34m)\u001b[0m\u001b[0;34m:\u001b[0m\u001b[0;34m\u001b[0m\u001b[0;34m\u001b[0m\u001b[0m\n\u001b[0m\u001b[1;32m     24\u001b[0m             \u001b[0mmy_id\u001b[0m \u001b[0;34m=\u001b[0m \u001b[0mline\u001b[0m\u001b[0;34m.\u001b[0m\u001b[0msplit\u001b[0m\u001b[0;34m(\u001b[0m\u001b[0;34m'='\u001b[0m\u001b[0;34m)\u001b[0m\u001b[0;34m\u001b[0m\u001b[0;34m\u001b[0m\u001b[0m\n\u001b[1;32m     25\u001b[0m             \u001b[0muuids\u001b[0m\u001b[0;34m.\u001b[0m\u001b[0mappend\u001b[0m\u001b[0;34m(\u001b[0m\u001b[0mmy_id\u001b[0m\u001b[0;34m[\u001b[0m\u001b[0;36m1\u001b[0m\u001b[0;34m]\u001b[0m\u001b[0;34m.\u001b[0m\u001b[0mstrip\u001b[0m\u001b[0;34m(\u001b[0m\u001b[0;34m)\u001b[0m\u001b[0;34m)\u001b[0m\u001b[0;34m\u001b[0m\u001b[0;34m\u001b[0m\u001b[0m\n",
      "\u001b[0;31mAttributeError\u001b[0m: 'int' object has no attribute 'lower'"
     ]
    }
   ],
   "source": [
    "notarize(c)"
   ]
  },
  {
   "cell_type": "code",
   "execution_count": 18,
   "metadata": {},
   "outputs": [],
   "source": [
    "# config = c\n",
    "# uuids = ['320f2c00-82e1-4c33-a599-63ddec405ef3']\n",
    "# notarize_max_check = config['main']['notrarize_max_check']\n",
    "# notarize_check = 0\n",
    "# success = {}\n",
    "# notarized = False\n",
    "\n",
    "\n",
    "# while not notarized:\n",
    "#     print('checking notarization status')\n",
    "#     notarize_check += 1\n",
    "#     print(f'check: {notarize_check}')\n",
    "#     check_args = {\n",
    "#         'command': 'xcrun altool',\n",
    "#         'info': f'--notarization-info {uuids[0]}',\n",
    "#         'username': f'--username {config[\"identification\"][\"apple_id\"]}',\n",
    "#         'password': f'--password {config[\"identification\"][\"password\"]}'\n",
    "#     }\n",
    "#     final_list = [i for k, i in check_args.items()]\n",
    "#     return_code, stdout, stderr = run_command(final_list)\n",
    "\n",
    "#     if stdout:\n",
    "#         lines = str(stdout, 'utf-8').splitlines()\n",
    "\n",
    "#         for l in lines:\n",
    "#             if 'status' in l.lower():\n",
    "#                 vals = l.split(':')\n",
    "#                 success[vals[0].strip()] = vals[1].strip()\n",
    "\n",
    "#         if success:\n",
    "#             notarized=True    \n",
    "#         else:\n",
    "#             if notarize_check >= notarize_max_check-1:\n",
    "#                 break\n",
    "#             sleep_timer = config['main']['notarize_timer']*notarize_check\n",
    "#             print(f'sleeping for {sleep_timer} seconds')\n",
    "#             sleep(sleep_timer)\n",
    "        "
   ]
  },
  {
   "cell_type": "code",
   "execution_count": 19,
   "metadata": {},
   "outputs": [],
   "source": [
    "def staple(config):\n",
    "    pass"
   ]
  },
  {
   "cell_type": "code",
   "execution_count": 20,
   "metadata": {},
   "outputs": [],
   "source": [
    "def main():\n",
    "    expected_config_keys = {\n",
    "        'identification': {\n",
    "            'application_id': 'Unique Substring of Developer ID Application Cert',\n",
    "            'installer_id': 'Unique Substring of Developer ID Installer Cert',\n",
    "            'apple_id': 'developer@domain.com',\n",
    "            'password': '@keychain:App-Specific-Password-Name-In-Keychain',\n",
    "        },\n",
    "        'package_details': {\n",
    "            'package_name': 'nameofpackage',\n",
    "            'bundle_id': 'com.developer.packagename',\n",
    "            'file_list': \"include_file1, include_file2\",\n",
    "            'installation_path': '/Applications/',\n",
    "            'entitlements': None,\n",
    "            'version': '0.0.0'\n",
    "        }\n",
    "    }\n",
    "    \n",
    "    notarize_timer = 60\n",
    "    notrarize_max_check = 5\n",
    "    \n",
    "    \n",
    "    args = get_args()\n",
    "\n",
    "    config = get_config(file=args.config, default_config=expected_config_keys)\n",
    "    if not config:\n",
    "        print('no configuration file provided')\n",
    "        return\n",
    "\n",
    "    config.update({'main': {\n",
    "        'notarize_timer': notarize_timer,\n",
    "        'notrarize_max_check': notrarize_max_check}\n",
    "                  })\n",
    "    \n",
    "    if validate_config(config, expected_config_keys):\n",
    "        print('exiting')\n",
    "        return\n",
    "        \n",
    "    # split the file list into an actual list\n",
    "    try:\n",
    "        file_list = config['package_details']['file_list'].split(',')\n",
    "        config['package_details']['file_list'] = file_list\n",
    "    except KeyError:\n",
    "        pass\n",
    "    \n",
    "    return config        \n",
    "    "
   ]
  },
  {
   "cell_type": "code",
   "execution_count": 21,
   "metadata": {},
   "outputs": [
    {
     "name": "stdout",
     "output_type": "stream",
     "text": [
      "using configuration file: project.ini\n"
     ]
    }
   ],
   "source": [
    "c = main()"
   ]
  },
  {
   "cell_type": "code",
   "execution_count": null,
   "metadata": {},
   "outputs": [],
   "source": [
    "c"
   ]
  },
  {
   "cell_type": "code",
   "execution_count": null,
   "metadata": {},
   "outputs": [],
   "source": []
  }
 ],
 "metadata": {
  "kernelspec": {
   "display_name": "Python 3",
   "language": "python",
   "name": "python3"
  },
  "language_info": {
   "codemirror_mode": {
    "name": "ipython",
    "version": 3
   },
   "file_extension": ".py",
   "mimetype": "text/x-python",
   "name": "python",
   "nbconvert_exporter": "python",
   "pygments_lexer": "ipython3",
   "version": "3.8.5"
  }
 },
 "nbformat": 4,
 "nbformat_minor": 4
}
