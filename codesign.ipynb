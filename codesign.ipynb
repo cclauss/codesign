{
 "cells": [
  {
   "cell_type": "code",
   "execution_count": null,
   "metadata": {},
   "outputs": [],
   "source": [
    "!jupyter-nbconvert --to python --template python_clean codesign.ipynb"
   ]
  },
  {
   "cell_type": "code",
   "execution_count": 80,
   "metadata": {},
   "outputs": [],
   "source": [
    "import configparser\n",
    "import argparse\n",
    "from distutils import util\n",
    "import subprocess\n",
    "import shlex"
   ]
  },
  {
   "cell_type": "code",
   "execution_count": 2,
   "metadata": {},
   "outputs": [],
   "source": [
    "def get_config(file=None, default_config=None, filename='codesign.ini'):\n",
    "    config = configparser.ConfigParser()\n",
    "    \n",
    "    if file:\n",
    "        print (f'using configuration file: {file}')\n",
    "        config.read(file)\n",
    "    elif default_config:\n",
    "        config.read_dict(default_config)\n",
    "        print(f'writing default config file: {filename}')\n",
    "        try:\n",
    "            with open(filename, 'w') as blank_config:\n",
    "                config.write(blank_config)\n",
    "        except OSError as e:\n",
    "            print(f'could not create {filename} due to error: {e}')\n",
    "        return {}\n",
    "    else:\n",
    "        return {}\n",
    "\n",
    "    return {s:dict(config.items(s)) for s in config.sections()}"
   ]
  },
  {
   "cell_type": "code",
   "execution_count": 3,
   "metadata": {},
   "outputs": [],
   "source": [
    "def get_args():\n",
    "    parser = argparse.ArgumentParser(description='Commandline Parser')\n",
    "    \n",
    "    parser.add_argument('-n', '--new', dest='new_config', \n",
    "                        action='store_true', default=False,\n",
    "                       help='create a new sample configuration with name \"codesign.ini\" in current directory')\n",
    "    \n",
    "    parser.add_argument('config', nargs='?', type=str, default=None,\n",
    "                       help='configuration file to use when codesigning')\n",
    "    \n",
    "#     known_args, unknown_args = parser.parse_known_args()\n",
    "    args = parser.parse_args()\n",
    "#     return(known_args, unknown_args)\n",
    "    return args"
   ]
  },
  {
   "cell_type": "code",
   "execution_count": 20,
   "metadata": {},
   "outputs": [],
   "source": [
    "def validate_config(config, expected_keys):\n",
    "    missing = {}\n",
    "    for section, keys in expected_keys.items():\n",
    "        if not section in config.keys():\n",
    "            missing[section] = expected_keys[section]\n",
    "            continue\n",
    "        for key in keys:\n",
    "            if not key in config[section].keys():\n",
    "                if not section in missing:\n",
    "                    missing[section] = {}\n",
    "                missing[section][key] = keys[key]\n",
    "                \n",
    "    if missing:\n",
    "        print(f'Config file \"{args.config}\" is missing values:')\n",
    "        for section, values in missing_values.items():\n",
    "            print(f'[{section}]')\n",
    "            for k, v in values.items():\n",
    "                print(f'\\t{k}: {v}')\n",
    "                    \n",
    "    return missing"
   ]
  },
  {
   "cell_type": "code",
   "execution_count": 5,
   "metadata": {},
   "outputs": [
    {
     "name": "stdout",
     "output_type": "stream",
     "text": [
      "using configuration file: project.ini\n"
     ]
    }
   ],
   "source": [
    "c = get_config('project.ini')"
   ]
  },
  {
   "cell_type": "code",
   "execution_count": 6,
   "metadata": {},
   "outputs": [],
   "source": [
    "import sys"
   ]
  },
  {
   "cell_type": "code",
   "execution_count": 13,
   "metadata": {},
   "outputs": [
    {
     "data": {
      "text/plain": [
       "['project.ini', 'project.ini']"
      ]
     },
     "execution_count": 13,
     "metadata": {},
     "output_type": "execute_result"
    }
   ],
   "source": [
    "sys.argv"
   ]
  },
  {
   "cell_type": "code",
   "execution_count": null,
   "metadata": {},
   "outputs": [],
   "source": [
    "default_args = sys.argv"
   ]
  },
  {
   "cell_type": "code",
   "execution_count": 10,
   "metadata": {},
   "outputs": [],
   "source": [
    "sys.argv = []"
   ]
  },
  {
   "cell_type": "code",
   "execution_count": 12,
   "metadata": {},
   "outputs": [],
   "source": [
    "sys.argv.append('project.ini')"
   ]
  },
  {
   "cell_type": "code",
   "execution_count": 9,
   "metadata": {},
   "outputs": [],
   "source": [
    "sys.argv.extend(['-c', './project.ini'])"
   ]
  },
  {
   "cell_type": "code",
   "execution_count": null,
   "metadata": {},
   "outputs": [],
   "source": [
    "def package(config):\n",
    "    pass"
   ]
  },
  {
   "cell_type": "code",
   "execution_count": 144,
   "metadata": {},
   "outputs": [],
   "source": [
    "def sign(config):\n",
    "    \n",
    "    try:\n",
    "        entitlements = util.strtobool(config['package_details']['entitlements'])\n",
    "    except (AttributeError, ValueError):\n",
    "        entitlements = config['package_details']['entitlements']\n",
    "    \n",
    "    if (not entitlements) or (entitlements == 'None'):\n",
    "        entitlements = None\n",
    "        \n",
    "    config['package_details']['entitlements'] = entitlements\n",
    "\n",
    "    args = {\n",
    "        'command': 'codesign',\n",
    "        'args': '--deep --force --timestamp --options=runtime',\n",
    "        'entitlements': f'--entitlements {config[\"package_details\"][\"entitlements\"]}' if config[\"package_details\"][\"entitlements\"] else None,\n",
    "        'signature': f'--sign {config[\"identification\"][\"application_id\"]}',\n",
    "        'files': ' '.join(config['package_details']['file_list'])\n",
    "    }\n",
    "    \n",
    "    final_list = [i if i is not None else '' for k, i in args.items()]\n",
    "    print(shlex.split(' '.join(final_list)))\n",
    "    # sub process to run codesign\n",
    "    "
   ]
  },
  {
   "cell_type": "code",
   "execution_count": 148,
   "metadata": {},
   "outputs": [],
   "source": [
    "def package(config):\n",
    "    pass\n"
   ]
  },
  {
   "cell_type": "code",
   "execution_count": 150,
   "metadata": {},
   "outputs": [],
   "source": [
    "def notarize(config):\n",
    "    pass"
   ]
  },
  {
   "cell_type": "code",
   "execution_count": 151,
   "metadata": {},
   "outputs": [],
   "source": [
    "def staple(config):\n",
    "    pass"
   ]
  },
  {
   "cell_type": "code",
   "execution_count": 25,
   "metadata": {},
   "outputs": [],
   "source": [
    "def main():\n",
    "    expected_config_keys = {\n",
    "        'identification': {\n",
    "            'application_id': 'Unique Substring of Developer ID Application Cert',\n",
    "            'installer_id': 'Unique Substring of Developer ID Installer Cert',\n",
    "            'apple_id': 'developer@domain.com',\n",
    "            'password': '@keychain:App-Specific-Password-Name-In-Keychain',\n",
    "        },\n",
    "        'package_details': {\n",
    "            'bundle_id': 'com.developer.bundlename',\n",
    "            'file_list': \"include_file1, include_file2\",\n",
    "            'installation_path': '/Applications/',\n",
    "            'entitlements': None,\n",
    "            'version': '0.0.0'\n",
    "        }\n",
    "    }\n",
    "    \n",
    "    \n",
    "    args = get_args()\n",
    "\n",
    "    config = get_config(file=args.config, default_config=expected_config_keys)\n",
    "    if not config:\n",
    "        print('no configuration file provided')\n",
    "        return\n",
    "    \n",
    "    if validate_config(config, expected_config_keys):\n",
    "        print('exiting')\n",
    "        return\n",
    "        \n",
    "    # split the file list into an actual list\n",
    "    try:\n",
    "        file_list = config['package_details']['file_list'].split(',')\n",
    "        config['package_details']['file_list'] = file_list\n",
    "    except KeyError:\n",
    "        pass\n",
    "    \n",
    "    return config        \n",
    "    "
   ]
  },
  {
   "cell_type": "code",
   "execution_count": 27,
   "metadata": {},
   "outputs": [
    {
     "name": "stdout",
     "output_type": "stream",
     "text": [
      "using configuration file: project.ini\n"
     ]
    }
   ],
   "source": [
    "c = main()"
   ]
  },
  {
   "cell_type": "code",
   "execution_count": 16,
   "metadata": {},
   "outputs": [
    {
     "name": "stdout",
     "output_type": "stream",
     "text": [
      "using configuration file: project.ini\n"
     ]
    }
   ],
   "source": [
    "c = get_config(a.config, e)"
   ]
  },
  {
   "cell_type": "code",
   "execution_count": 17,
   "metadata": {},
   "outputs": [
    {
     "data": {
      "text/plain": [
       "{'identification': {'application_id': '56B0254B2A227F0B04246202EE4D4AFD91304D54',\n",
       "  'installer_id': '52F54B8EFD9C57BE110737F24DB261879F1B30E7',\n",
       "  'apple_id': 'aaronciuffonl@gmail.com',\n",
       "  'password': '@keychain:Developer-altool'},\n",
       " 'package_details': {'bundle_id': 'com.txoof.hello',\n",
       "  'file_list': './dist/hello, ./dist/foo',\n",
       "  'installation_path': '/Applications/',\n",
       "  'entitlements': 'entitlements.plist',\n",
       "  'version': '0.0.1'}}"
      ]
     },
     "execution_count": 17,
     "metadata": {},
     "output_type": "execute_result"
    }
   ],
   "source": [
    "c"
   ]
  },
  {
   "cell_type": "code",
   "execution_count": null,
   "metadata": {},
   "outputs": [],
   "source": []
  }
 ],
 "metadata": {
  "kernelspec": {
   "display_name": "Python 3",
   "language": "python",
   "name": "python3"
  },
  "language_info": {
   "codemirror_mode": {
    "name": "ipython",
    "version": 3
   },
   "file_extension": ".py",
   "mimetype": "text/x-python",
   "name": "python",
   "nbconvert_exporter": "python",
   "pygments_lexer": "ipython3",
   "version": "3.8.5"
  }
 },
 "nbformat": 4,
 "nbformat_minor": 4
}
